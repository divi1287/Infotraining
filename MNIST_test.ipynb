{
  "nbformat": 4,
  "nbformat_minor": 0,
  "metadata": {
    "colab": {
      "provenance": [],
      "authorship_tag": "ABX9TyMC5V/9/9PwwweVpHke3xtY",
      "include_colab_link": true
    },
    "kernelspec": {
      "name": "python3",
      "display_name": "Python 3"
    },
    "language_info": {
      "name": "python"
    }
  },
  "cells": [
    {
      "cell_type": "markdown",
      "metadata": {
        "id": "view-in-github",
        "colab_type": "text"
      },
      "source": [
        "<a href=\"https://colab.research.google.com/github/divi1287/Infotraining/blob/branch1/MNIST_test.ipynb\" target=\"_parent\"><img src=\"https://colab.research.google.com/assets/colab-badge.svg\" alt=\"Open In Colab\"/></a>"
      ]
    },
    {
      "cell_type": "code",
      "execution_count": 2,
      "metadata": {
        "id": "lhUOHO38tzwY"
      },
      "outputs": [],
      "source": [
        "import numpy as np\n",
        "import pandas as pd\n",
        "import matplotlib.pyplot as plt"
      ]
    },
    {
      "cell_type": "code",
      "source": [
        "import tensorflow\n",
        "from tensorflow import keras\n",
        "from tensorflow.keras import Sequential\n",
        "from tensorflow.keras.layers import Flatten,Dense\n",
        "from keras.optimizers import Adam"
      ],
      "metadata": {
        "id": "L1Hrt0Qvt4mD"
      },
      "execution_count": 3,
      "outputs": []
    },
    {
      "cell_type": "code",
      "source": [
        "(X_train,y_train),(X_test,y_test)=keras.datasets.mnist.load_data()"
      ],
      "metadata": {
        "id": "bNeCpaict7O9"
      },
      "execution_count": 4,
      "outputs": []
    },
    {
      "cell_type": "code",
      "source": [
        "print(X_train.shape)"
      ],
      "metadata": {
        "colab": {
          "base_uri": "https://localhost:8080/"
        },
        "id": "9b2rmkq9t8xF",
        "outputId": "b0c2b7b2-fc99-4c54-d54c-74c01dc4aedf"
      },
      "execution_count": 5,
      "outputs": [
        {
          "output_type": "stream",
          "name": "stdout",
          "text": [
            "(60000, 28, 28)\n"
          ]
        }
      ]
    },
    {
      "cell_type": "code",
      "source": [
        "print(y_train.shape)"
      ],
      "metadata": {
        "colab": {
          "base_uri": "https://localhost:8080/"
        },
        "id": "_t5uttzat80Y",
        "outputId": "5da42b50-1d42-4f73-fa5c-0a21b6b1cdcd"
      },
      "execution_count": 6,
      "outputs": [
        {
          "output_type": "stream",
          "name": "stdout",
          "text": [
            "(60000,)\n"
          ]
        }
      ]
    },
    {
      "cell_type": "code",
      "source": [
        "print(X_test.shape)"
      ],
      "metadata": {
        "colab": {
          "base_uri": "https://localhost:8080/"
        },
        "id": "yzL16gkYt83w",
        "outputId": "834826e0-453a-40dc-a226-1115b5314762"
      },
      "execution_count": 7,
      "outputs": [
        {
          "output_type": "stream",
          "name": "stdout",
          "text": [
            "(10000, 28, 28)\n"
          ]
        }
      ]
    },
    {
      "cell_type": "code",
      "source": [
        "print(y_test.shape)"
      ],
      "metadata": {
        "colab": {
          "base_uri": "https://localhost:8080/"
        },
        "id": "iR_eRYBduCQn",
        "outputId": "89fe5f7d-095a-419b-e57e-2d7bfb5d6198"
      },
      "execution_count": 8,
      "outputs": [
        {
          "output_type": "stream",
          "name": "stdout",
          "text": [
            "(10000,)\n"
          ]
        }
      ]
    },
    {
      "cell_type": "code",
      "source": [
        "plt.imshow(X_train[0])"
      ],
      "metadata": {
        "colab": {
          "base_uri": "https://localhost:8080/",
          "height": 447
        },
        "id": "tbSzsLKLuCT1",
        "outputId": "46ba15a7-0e98-4d87-89fe-b4df4384c27c"
      },
      "execution_count": 9,
      "outputs": [
        {
          "output_type": "execute_result",
          "data": {
            "text/plain": [
              "<matplotlib.image.AxesImage at 0x7dc707c0d9f0>"
            ]
          },
          "metadata": {},
          "execution_count": 9
        },
        {
          "output_type": "display_data",
          "data": {
            "text/plain": [
              "<Figure size 640x480 with 1 Axes>"
            ],
            "image/png": "[encoded data removed]"
          },
          "metadata": {}
        }
      ]
    },
    {
      "cell_type": "code",
      "source": [
        "#Showing corresponding label for the above\n",
        "print(y_train[0])"
      ],
      "metadata": {
        "colab": {
          "base_uri": "https://localhost:8080/"
        },
        "id": "8MfTu3yauCXI",
        "outputId": "7b7b3cd9-d3a2-44fc-84dd-4ca13e7963c0"
      },
      "execution_count": 10,
      "outputs": [
        {
          "output_type": "stream",
          "name": "stdout",
          "text": [
            "5\n"
          ]
        }
      ]
    },
    {
      "cell_type": "code",
      "source": [
        "print(X_train[0])"
      ],
      "metadata": {
        "colab": {
          "base_uri": "https://localhost:8080/"
        },
        "id": "rII0gflYuCaF",
        "outputId": "05e51077-9cdd-45e7-f13d-b975568e3e87"
      },
      "execution_count": 11,
      "outputs": [
        {
          "output_type": "stream",
          "name": "stdout",
          "text": [
            "[[  0   0   0   0   0   0   0   0   0   0   0   0   0   0   0   0   0   0\n",
            "    0   0   0   0   0   0   0   0   0   0]\n",
            " [  0   0   0   0   0   0   0   0   0   0   0   0   0   0   0   0   0   0\n",
            "    0   0   0   0   0   0   0   0   0   0]\n",
            " [  0   0   0   0   0   0   0   0   0   0   0   0   0   0   0   0   0   0\n",
            "    0   0   0   0   0   0   0   0   0   0]\n",
            " [  0   0   0   0   0   0   0   0   0   0   0   0   0   0   0   0   0   0\n",
            "    0   0   0   0   0   0   0   0   0   0]\n",
            " [  0   0   0   0   0   0   0   0   0   0   0   0   0   0   0   0   0   0\n",
            "    0   0   0   0   0   0   0   0   0   0]\n",
            " [  0   0   0   0   0   0   0   0   0   0   0   0   3  18  18  18 126 136\n",
            "  175  26 166 255 247 127   0   0   0   0]\n",
            " [  0   0   0   0   0   0   0   0  30  36  94 154 170 253 253 253 253 253\n",
            "  225 172 253 242 195  64   0   0   0   0]\n",
            " [  0   0   0   0   0   0   0  49 238 253 253 253 253 253 253 253 253 251\n",
            "   93  82  82  56  39   0   0   0   0   0]\n",
            " [  0   0   0   0   0   0   0  18 219 253 253 253 253 253 198 182 247 241\n",
            "    0   0   0   0   0   0   0   0   0   0]\n",
            " [  0   0   0   0   0   0   0   0  80 156 107 253 253 205  11   0  43 154\n",
            "    0   0   0   0   0   0   0   0   0   0]\n",
            " [  0   0   0   0   0   0   0   0   0  14   1 154 253  90   0   0   0   0\n",
            "    0   0   0   0   0   0   0   0   0   0]\n",
            " [  0   0   0   0   0   0   0   0   0   0   0 139 253 190   2   0   0   0\n",
            "    0   0   0   0   0   0   0   0   0   0]\n",
            " [  0   0   0   0   0   0   0   0   0   0   0  11 190 253  70   0   0   0\n",
            "    0   0   0   0   0   0   0   0   0   0]\n",
            " [  0   0   0   0   0   0   0   0   0   0   0   0  35 241 225 160 108   1\n",
            "    0   0   0   0   0   0   0   0   0   0]\n",
            " [  0   0   0   0   0   0   0   0   0   0   0   0   0  81 240 253 253 119\n",
            "   25   0   0   0   0   0   0   0   0   0]\n",
            " [  0   0   0   0   0   0   0   0   0   0   0   0   0   0  45 186 253 253\n",
            "  150  27   0   0   0   0   0   0   0   0]\n",
            " [  0   0   0   0   0   0   0   0   0   0   0   0   0   0   0  16  93 252\n",
            "  253 187   0   0   0   0   0   0   0   0]\n",
            " [  0   0   0   0   0   0   0   0   0   0   0   0   0   0   0   0   0 249\n",
            "  253 249  64   0   0   0   0   0   0   0]\n",
            " [  0   0   0   0   0   0   0   0   0   0   0   0   0   0  46 130 183 253\n",
            "  253 207   2   0   0   0   0   0   0   0]\n",
            " [  0   0   0   0   0   0   0   0   0   0   0   0  39 148 229 253 253 253\n",
            "  250 182   0   0   0   0   0   0   0   0]\n",
            " [  0   0   0   0   0   0   0   0   0   0  24 114 221 253 253 253 253 201\n",
            "   78   0   0   0   0   0   0   0   0   0]\n",
            " [  0   0   0   0   0   0   0   0  23  66 213 253 253 253 253 198  81   2\n",
            "    0   0   0   0   0   0   0   0   0   0]\n",
            " [  0   0   0   0   0   0  18 171 219 253 253 253 253 195  80   9   0   0\n",
            "    0   0   0   0   0   0   0   0   0   0]\n",
            " [  0   0   0   0  55 172 226 253 253 253 253 244 133  11   0   0   0   0\n",
            "    0   0   0   0   0   0   0   0   0   0]\n",
            " [  0   0   0   0 136 253 253 253 212 135 132  16   0   0   0   0   0   0\n",
            "    0   0   0   0   0   0   0   0   0   0]\n",
            " [  0   0   0   0   0   0   0   0   0   0   0   0   0   0   0   0   0   0\n",
            "    0   0   0   0   0   0   0   0   0   0]\n",
            " [  0   0   0   0   0   0   0   0   0   0   0   0   0   0   0   0   0   0\n",
            "    0   0   0   0   0   0   0   0   0   0]\n",
            " [  0   0   0   0   0   0   0   0   0   0   0   0   0   0   0   0   0   0\n",
            "    0   0   0   0   0   0   0   0   0   0]]\n"
          ]
        }
      ]
    },
    {
      "cell_type": "code",
      "source": [
        "#Scalar Operation\n",
        "X_train=X_train/255\n",
        "X_test=X_test/255"
      ],
      "metadata": {
        "id": "SA4WulP_uCdL"
      },
      "execution_count": 12,
      "outputs": []
    },
    {
      "cell_type": "code",
      "source": [
        "print(X_train[0])"
      ],
      "metadata": {
        "colab": {
          "base_uri": "https://localhost:8080/"
        },
        "id": "Cgnx6Uc1uMfr",
        "outputId": "b2a749ee-4e65-45b7-df92-dfd0e1407bf6"
      },
      "execution_count": 13,
      "outputs": [
        {
          "output_type": "stream",
          "name": "stdout",
          "text": [
            "[[0.         0.         0.         0.         0.         0.\n",
            "  0.         0.         0.         0.         0.         0.\n",
            "  0.         0.         0.         0.         0.         0.\n",
            "  0.         0.         0.         0.         0.         0.\n",
            "  0.         0.         0.         0.        ]\n",
            " [0.         0.         0.         0.         0.         0.\n",
            "  0.         0.         0.         0.         0.         0.\n",
            "  0.         0.         0.         0.         0.         0.\n",
            "  0.         0.         0.         0.         0.         0.\n",
            "  0.         0.         0.         0.        ]\n",
            " [0.         0.         0.         0.         0.         0.\n",
            "  0.         0.         0.         0.         0.         0.\n",
            "  0.         0.         0.         0.         0.         0.\n",
            "  0.         0.         0.         0.         0.         0.\n",
            "  0.         0.         0.         0.        ]\n",
            " [0.         0.         0.         0.         0.         0.\n",
            "  0.         0.         0.         0.         0.         0.\n",
            "  0.         0.         0.         0.         0.         0.\n",
            "  0.         0.         0.         0.         0.         0.\n",
            "  0.         0.         0.         0.        ]\n",
            " [0.         0.         0.         0.         0.         0.\n",
            "  0.         0.         0.         0.         0.         0.\n",
            "  0.         0.         0.         0.         0.         0.\n",
            "  0.         0.         0.         0.         0.         0.\n",
            "  0.         0.         0.         0.        ]\n",
            " [0.         0.         0.         0.         0.         0.\n",
            "  0.         0.         0.         0.         0.         0.\n",
            "  0.01176471 0.07058824 0.07058824 0.07058824 0.49411765 0.53333333\n",
            "  0.68627451 0.10196078 0.65098039 1.         0.96862745 0.49803922\n",
            "  0.         0.         0.         0.        ]\n",
            " [0.         0.         0.         0.         0.         0.\n",
            "  0.         0.         0.11764706 0.14117647 0.36862745 0.60392157\n",
            "  0.66666667 0.99215686 0.99215686 0.99215686 0.99215686 0.99215686\n",
            "  0.88235294 0.6745098  0.99215686 0.94901961 0.76470588 0.25098039\n",
            "  0.         0.         0.         0.        ]\n",
            " [0.         0.         0.         0.         0.         0.\n",
            "  0.         0.19215686 0.93333333 0.99215686 0.99215686 0.99215686\n",
            "  0.99215686 0.99215686 0.99215686 0.99215686 0.99215686 0.98431373\n",
            "  0.36470588 0.32156863 0.32156863 0.21960784 0.15294118 0.\n",
            "  0.         0.         0.         0.        ]\n",
            " [0.         0.         0.         0.         0.         0.\n",
            "  0.         0.07058824 0.85882353 0.99215686 0.99215686 0.99215686\n",
            "  0.99215686 0.99215686 0.77647059 0.71372549 0.96862745 0.94509804\n",
            "  0.         0.         0.         0.         0.         0.\n",
            "  0.         0.         0.         0.        ]\n",
            " [0.         0.         0.         0.         0.         0.\n",
            "  0.         0.         0.31372549 0.61176471 0.41960784 0.99215686\n",
            "  0.99215686 0.80392157 0.04313725 0.         0.16862745 0.60392157\n",
            "  0.         0.         0.         0.         0.         0.\n",
            "  0.         0.         0.         0.        ]\n",
            " [0.         0.         0.         0.         0.         0.\n",
            "  0.         0.         0.         0.05490196 0.00392157 0.60392157\n",
            "  0.99215686 0.35294118 0.         0.         0.         0.\n",
            "  0.         0.         0.         0.         0.         0.\n",
            "  0.         0.         0.         0.        ]\n",
            " [0.         0.         0.         0.         0.         0.\n",
            "  0.         0.         0.         0.         0.         0.54509804\n",
            "  0.99215686 0.74509804 0.00784314 0.         0.         0.\n",
            "  0.         0.         0.         0.         0.         0.\n",
            "  0.         0.         0.         0.        ]\n",
            " [0.         0.         0.         0.         0.         0.\n",
            "  0.         0.         0.         0.         0.         0.04313725\n",
            "  0.74509804 0.99215686 0.2745098  0.         0.         0.\n",
            "  0.         0.         0.         0.         0.         0.\n",
            "  0.         0.         0.         0.        ]\n",
            " [0.         0.         0.         0.         0.         0.\n",
            "  0.         0.         0.         0.         0.         0.\n",
            "  0.1372549  0.94509804 0.88235294 0.62745098 0.42352941 0.00392157\n",
            "  0.         0.         0.         0.         0.         0.\n",
            "  0.         0.         0.         0.        ]\n",
            " [0.         0.         0.         0.         0.         0.\n",
            "  0.         0.         0.         0.         0.         0.\n",
            "  0.         0.31764706 0.94117647 0.99215686 0.99215686 0.46666667\n",
            "  0.09803922 0.         0.         0.         0.         0.\n",
            "  0.         0.         0.         0.        ]\n",
            " [0.         0.         0.         0.         0.         0.\n",
            "  0.         0.         0.         0.         0.         0.\n",
            "  0.         0.         0.17647059 0.72941176 0.99215686 0.99215686\n",
            "  0.58823529 0.10588235 0.         0.         0.         0.\n",
            "  0.         0.         0.         0.        ]\n",
            " [0.         0.         0.         0.         0.         0.\n",
            "  0.         0.         0.         0.         0.         0.\n",
            "  0.         0.         0.         0.0627451  0.36470588 0.98823529\n",
            "  0.99215686 0.73333333 0.         0.         0.         0.\n",
            "  0.         0.         0.         0.        ]\n",
            " [0.         0.         0.         0.         0.         0.\n",
            "  0.         0.         0.         0.         0.         0.\n",
            "  0.         0.         0.         0.         0.         0.97647059\n",
            "  0.99215686 0.97647059 0.25098039 0.         0.         0.\n",
            "  0.         0.         0.         0.        ]\n",
            " [0.         0.         0.         0.         0.         0.\n",
            "  0.         0.         0.         0.         0.         0.\n",
            "  0.         0.         0.18039216 0.50980392 0.71764706 0.99215686\n",
            "  0.99215686 0.81176471 0.00784314 0.         0.         0.\n",
            "  0.         0.         0.         0.        ]\n",
            " [0.         0.         0.         0.         0.         0.\n",
            "  0.         0.         0.         0.         0.         0.\n",
            "  0.15294118 0.58039216 0.89803922 0.99215686 0.99215686 0.99215686\n",
            "  0.98039216 0.71372549 0.         0.         0.         0.\n",
            "  0.         0.         0.         0.        ]\n",
            " [0.         0.         0.         0.         0.         0.\n",
            "  0.         0.         0.         0.         0.09411765 0.44705882\n",
            "  0.86666667 0.99215686 0.99215686 0.99215686 0.99215686 0.78823529\n",
            "  0.30588235 0.         0.         0.         0.         0.\n",
            "  0.         0.         0.         0.        ]\n",
            " [0.         0.         0.         0.         0.         0.\n",
            "  0.         0.         0.09019608 0.25882353 0.83529412 0.99215686\n",
            "  0.99215686 0.99215686 0.99215686 0.77647059 0.31764706 0.00784314\n",
            "  0.         0.         0.         0.         0.         0.\n",
            "  0.         0.         0.         0.        ]\n",
            " [0.         0.         0.         0.         0.         0.\n",
            "  0.07058824 0.67058824 0.85882353 0.99215686 0.99215686 0.99215686\n",
            "  0.99215686 0.76470588 0.31372549 0.03529412 0.         0.\n",
            "  0.         0.         0.         0.         0.         0.\n",
            "  0.         0.         0.         0.        ]\n",
            " [0.         0.         0.         0.         0.21568627 0.6745098\n",
            "  0.88627451 0.99215686 0.99215686 0.99215686 0.99215686 0.95686275\n",
            "  0.52156863 0.04313725 0.         0.         0.         0.\n",
            "  0.         0.         0.         0.         0.         0.\n",
            "  0.         0.         0.         0.        ]\n",
            " [0.         0.         0.         0.         0.53333333 0.99215686\n",
            "  0.99215686 0.99215686 0.83137255 0.52941176 0.51764706 0.0627451\n",
            "  0.         0.         0.         0.         0.         0.\n",
            "  0.         0.         0.         0.         0.         0.\n",
            "  0.         0.         0.         0.        ]\n",
            " [0.         0.         0.         0.         0.         0.\n",
            "  0.         0.         0.         0.         0.         0.\n",
            "  0.         0.         0.         0.         0.         0.\n",
            "  0.         0.         0.         0.         0.         0.\n",
            "  0.         0.         0.         0.        ]\n",
            " [0.         0.         0.         0.         0.         0.\n",
            "  0.         0.         0.         0.         0.         0.\n",
            "  0.         0.         0.         0.         0.         0.\n",
            "  0.         0.         0.         0.         0.         0.\n",
            "  0.         0.         0.         0.        ]\n",
            " [0.         0.         0.         0.         0.         0.\n",
            "  0.         0.         0.         0.         0.         0.\n",
            "  0.         0.         0.         0.         0.         0.\n",
            "  0.         0.         0.         0.         0.         0.\n",
            "  0.         0.         0.         0.        ]]\n"
          ]
        }
      ]
    },
    {
      "cell_type": "code",
      "source": [
        "# Simple Neural networks\n",
        "model=Sequential()\n",
        "model.add(Flatten(input_shape=(28,28)))\n",
        "model.add(Dense(128,activation=\"relu\"))\n",
        "model.add(Dense(10,activation=\"softmax\"))"
      ],
      "metadata": {
        "id": "2b65fTyuuPoq"
      },
      "execution_count": 14,
      "outputs": []
    },
    {
      "cell_type": "code",
      "source": [
        "learning_rates = np.arange(0.001, 0.01, 0.001)\n",
        "#batch_sizes = [10, 100, 200, 300, 400, 500, 1000, 2000, 3000, 4000]\n",
        "lr_results=[]\n",
        "accuracy_results=[]\n",
        "#batch_results=[]\n",
        "for lr in learning_rates:\n",
        "  #for batch_size in batch_sizes:\n",
        "    optimizer = Adam(learning_rate=lr)\n",
        "    model.compile(optimizer=optimizer, loss='sparse_categorical_crossentropy', metrics=['accuracy'])\n",
        "    history=model.fit(X_train,y_train,batch_size=64,epochs=10,verbose=1,validation_split=0.2)\n",
        "    loss, accuracy = model.evaluate(X_test, y_test, verbose=1)\n",
        "    print(f\"Learning Rate: {lr:.4f} - Test Accuracy: {accuracy:.4f}\")\n",
        "    lr_results.append(lr)\n",
        "    #batch_results.append(batch_size)\n",
        "    accuracy_results.append(accuracy)\n",
        "\n"
      ],
      "metadata": {
        "colab": {
          "base_uri": "https://localhost:8080/"
        },
        "id": "JOMAIbJuw9rb",
        "outputId": "6458bfce-e659-4e9d-9b19-23686c5325ee"
      },
      "execution_count": 15,
      "outputs": [
        {
          "output_type": "stream",
          "name": "stdout",
          "text": [
            "Epoch 1/10\n",
            "750/750 [==============================] - 8s 9ms/step - loss: 0.3313 - accuracy: 0.9070 - val_loss: 0.1801 - val_accuracy: 0.9492\n",
            "Epoch 2/10\n",
            "750/750 [==============================] - 7s 10ms/step - loss: 0.1522 - accuracy: 0.9564 - val_loss: 0.1344 - val_accuracy: 0.9610\n",
            "Epoch 3/10\n",
            "750/750 [==============================] - 4s 5ms/step - loss: 0.1079 - accuracy: 0.9684 - val_loss: 0.1148 - val_accuracy: 0.9668\n",
            "Epoch 4/10\n",
            "750/750 [==============================] - 3s 4ms/step - loss: 0.0826 - accuracy: 0.9757 - val_loss: 0.1007 - val_accuracy: 0.9706\n",
            "Epoch 5/10\n",
            "750/750 [==============================] - 4s 5ms/step - loss: 0.0651 - accuracy: 0.9816 - val_loss: 0.0969 - val_accuracy: 0.9713\n",
            "Epoch 6/10\n",
            "750/750 [==============================] - 3s 4ms/step - loss: 0.0524 - accuracy: 0.9850 - val_loss: 0.0868 - val_accuracy: 0.9743\n",
            "Epoch 7/10\n",
            "750/750 [==============================] - 3s 4ms/step - loss: 0.0422 - accuracy: 0.9881 - val_loss: 0.0847 - val_accuracy: 0.9759\n",
            "Epoch 8/10\n",
            "750/750 [==============================] - 3s 4ms/step - loss: 0.0346 - accuracy: 0.9904 - val_loss: 0.0842 - val_accuracy: 0.9747\n",
            "Epoch 9/10\n",
            "750/750 [==============================] - 4s 5ms/step - loss: 0.0277 - accuracy: 0.9924 - val_loss: 0.0848 - val_accuracy: 0.9736\n",
            "Epoch 10/10\n",
            "750/750 [==============================] - 3s 4ms/step - loss: 0.0233 - accuracy: 0.9938 - val_loss: 0.0956 - val_accuracy: 0.9720\n",
            "313/313 [==============================] - 1s 2ms/step - loss: 0.0843 - accuracy: 0.9745\n",
            "Learning Rate: 0.0010 - Test Accuracy: 0.9745\n",
            "Epoch 1/10\n",
            "750/750 [==============================] - 4s 5ms/step - loss: 0.0387 - accuracy: 0.9876 - val_loss: 0.1113 - val_accuracy: 0.9693\n",
            "Epoch 2/10\n",
            "750/750 [==============================] - 3s 4ms/step - loss: 0.0325 - accuracy: 0.9894 - val_loss: 0.1073 - val_accuracy: 0.9707\n",
            "Epoch 3/10\n",
            "750/750 [==============================] - 3s 4ms/step - loss: 0.0257 - accuracy: 0.9913 - val_loss: 0.1011 - val_accuracy: 0.9738\n",
            "Epoch 4/10\n",
            "750/750 [==============================] - 3s 4ms/step - loss: 0.0208 - accuracy: 0.9931 - val_loss: 0.1053 - val_accuracy: 0.9731\n",
            "Epoch 5/10\n",
            "750/750 [==============================] - 4s 5ms/step - loss: 0.0186 - accuracy: 0.9939 - val_loss: 0.1152 - val_accuracy: 0.9735\n",
            "Epoch 6/10\n",
            "750/750 [==============================] - 3s 5ms/step - loss: 0.0200 - accuracy: 0.9929 - val_loss: 0.1171 - val_accuracy: 0.9734\n",
            "Epoch 7/10\n",
            "750/750 [==============================] - 3s 4ms/step - loss: 0.0125 - accuracy: 0.9958 - val_loss: 0.1035 - val_accuracy: 0.9776\n",
            "Epoch 8/10\n",
            "750/750 [==============================] - 3s 4ms/step - loss: 0.0143 - accuracy: 0.9952 - val_loss: 0.1136 - val_accuracy: 0.9757\n",
            "Epoch 9/10\n",
            "750/750 [==============================] - 4s 5ms/step - loss: 0.0141 - accuracy: 0.9952 - val_loss: 0.1104 - val_accuracy: 0.9757\n",
            "Epoch 10/10\n",
            "750/750 [==============================] - 3s 4ms/step - loss: 0.0119 - accuracy: 0.9956 - val_loss: 0.1298 - val_accuracy: 0.9729\n",
            "313/313 [==============================] - 1s 2ms/step - loss: 0.1179 - accuracy: 0.9749\n",
            "Learning Rate: 0.0020 - Test Accuracy: 0.9749\n",
            "Epoch 1/10\n",
            "750/750 [==============================] - 3s 4ms/step - loss: 0.0254 - accuracy: 0.9912 - val_loss: 0.1440 - val_accuracy: 0.9713\n",
            "Epoch 2/10\n",
            "750/750 [==============================] - 3s 4ms/step - loss: 0.0222 - accuracy: 0.9933 - val_loss: 0.1722 - val_accuracy: 0.9679\n",
            "Epoch 3/10\n",
            "750/750 [==============================] - 4s 6ms/step - loss: 0.0275 - accuracy: 0.9914 - val_loss: 0.1262 - val_accuracy: 0.9778\n",
            "Epoch 4/10\n",
            "750/750 [==============================] - 3s 4ms/step - loss: 0.0204 - accuracy: 0.9934 - val_loss: 0.1537 - val_accuracy: 0.9742\n",
            "Epoch 5/10\n",
            "750/750 [==============================] - 3s 4ms/step - loss: 0.0213 - accuracy: 0.9929 - val_loss: 0.1611 - val_accuracy: 0.9722\n",
            "Epoch 6/10\n",
            "750/750 [==============================] - 3s 4ms/step - loss: 0.0174 - accuracy: 0.9943 - val_loss: 0.1573 - val_accuracy: 0.9741\n",
            "Epoch 7/10\n",
            "750/750 [==============================] - 4s 6ms/step - loss: 0.0168 - accuracy: 0.9948 - val_loss: 0.1724 - val_accuracy: 0.9732\n",
            "Epoch 8/10\n",
            "750/750 [==============================] - 3s 4ms/step - loss: 0.0182 - accuracy: 0.9944 - val_loss: 0.1653 - val_accuracy: 0.9713\n",
            "Epoch 9/10\n",
            "750/750 [==============================] - 3s 4ms/step - loss: 0.0176 - accuracy: 0.9946 - val_loss: 0.1777 - val_accuracy: 0.9745\n",
            "Epoch 10/10\n",
            "750/750 [==============================] - 3s 4ms/step - loss: 0.0181 - accuracy: 0.9948 - val_loss: 0.2025 - val_accuracy: 0.9728\n",
            "313/313 [==============================] - 1s 2ms/step - loss: 0.1878 - accuracy: 0.9728\n",
            "Learning Rate: 0.0030 - Test Accuracy: 0.9728\n",
            "Epoch 1/10\n",
            "750/750 [==============================] - 5s 6ms/step - loss: 0.0337 - accuracy: 0.9908 - val_loss: 0.1910 - val_accuracy: 0.9743\n",
            "Epoch 2/10\n",
            "750/750 [==============================] - 3s 4ms/step - loss: 0.0230 - accuracy: 0.9935 - val_loss: 0.2090 - val_accuracy: 0.9714\n",
            "Epoch 3/10\n",
            "750/750 [==============================] - 3s 4ms/step - loss: 0.0277 - accuracy: 0.9923 - val_loss: 0.2221 - val_accuracy: 0.9702\n",
            "Epoch 4/10\n",
            "750/750 [==============================] - 3s 4ms/step - loss: 0.0261 - accuracy: 0.9928 - val_loss: 0.2258 - val_accuracy: 0.9719\n",
            "Epoch 5/10\n",
            "750/750 [==============================] - 4s 5ms/step - loss: 0.0212 - accuracy: 0.9942 - val_loss: 0.2609 - val_accuracy: 0.9678\n",
            "Epoch 6/10\n",
            "750/750 [==============================] - 3s 4ms/step - loss: 0.0285 - accuracy: 0.9927 - val_loss: 0.2171 - val_accuracy: 0.9739\n",
            "Epoch 7/10\n",
            "750/750 [==============================] - 3s 4ms/step - loss: 0.0201 - accuracy: 0.9946 - val_loss: 0.2440 - val_accuracy: 0.9719\n",
            "Epoch 8/10\n",
            "750/750 [==============================] - 3s 4ms/step - loss: 0.0239 - accuracy: 0.9942 - val_loss: 0.2477 - val_accuracy: 0.9703\n",
            "Epoch 9/10\n",
            "750/750 [==============================] - 4s 5ms/step - loss: 0.0222 - accuracy: 0.9942 - val_loss: 0.2443 - val_accuracy: 0.9715\n",
            "Epoch 10/10\n",
            "750/750 [==============================] - 3s 5ms/step - loss: 0.0240 - accuracy: 0.9940 - val_loss: 0.2204 - val_accuracy: 0.9738\n",
            "313/313 [==============================] - 1s 2ms/step - loss: 0.2262 - accuracy: 0.9747\n",
            "Learning Rate: 0.0040 - Test Accuracy: 0.9747\n",
            "Epoch 1/10\n",
            "750/750 [==============================] - 3s 4ms/step - loss: 0.0392 - accuracy: 0.9914 - val_loss: 0.2582 - val_accuracy: 0.9724\n",
            "Epoch 2/10\n",
            "750/750 [==============================] - 3s 5ms/step - loss: 0.0252 - accuracy: 0.9946 - val_loss: 0.2688 - val_accuracy: 0.9736\n",
            "Epoch 3/10\n",
            "750/750 [==============================] - 3s 4ms/step - loss: 0.0379 - accuracy: 0.9924 - val_loss: 0.2584 - val_accuracy: 0.9715\n",
            "Epoch 4/10\n",
            "750/750 [==============================] - 3s 4ms/step - loss: 0.0431 - accuracy: 0.9916 - val_loss: 0.2807 - val_accuracy: 0.9737\n",
            "Epoch 5/10\n",
            "750/750 [==============================] - 3s 4ms/step - loss: 0.0241 - accuracy: 0.9950 - val_loss: 0.2739 - val_accuracy: 0.9744\n",
            "Epoch 6/10\n",
            "750/750 [==============================] - 4s 6ms/step - loss: 0.0257 - accuracy: 0.9941 - val_loss: 0.3180 - val_accuracy: 0.9697\n",
            "Epoch 7/10\n",
            "750/750 [==============================] - 4s 5ms/step - loss: 0.0341 - accuracy: 0.9931 - val_loss: 0.2826 - val_accuracy: 0.9749\n",
            "Epoch 8/10\n",
            "750/750 [==============================] - 3s 4ms/step - loss: 0.0278 - accuracy: 0.9945 - val_loss: 0.3040 - val_accuracy: 0.9739\n",
            "Epoch 9/10\n",
            "750/750 [==============================] - 3s 4ms/step - loss: 0.0326 - accuracy: 0.9936 - val_loss: 0.3175 - val_accuracy: 0.9726\n",
            "Epoch 10/10\n",
            "750/750 [==============================] - 3s 4ms/step - loss: 0.0322 - accuracy: 0.9940 - val_loss: 0.3064 - val_accuracy: 0.9756\n",
            "313/313 [==============================] - 1s 2ms/step - loss: 0.3097 - accuracy: 0.9746\n",
            "Learning Rate: 0.0050 - Test Accuracy: 0.9746\n",
            "Epoch 1/10\n",
            "750/750 [==============================] - 5s 6ms/step - loss: 0.0454 - accuracy: 0.9921 - val_loss: 0.3546 - val_accuracy: 0.9693\n",
            "Epoch 2/10\n",
            "750/750 [==============================] - 3s 4ms/step - loss: 0.0324 - accuracy: 0.9943 - val_loss: 0.4111 - val_accuracy: 0.9697\n",
            "Epoch 3/10\n",
            "750/750 [==============================] - 3s 4ms/step - loss: 0.0398 - accuracy: 0.9931 - val_loss: 0.4180 - val_accuracy: 0.9735\n",
            "Epoch 4/10\n",
            "750/750 [==============================] - 3s 4ms/step - loss: 0.0388 - accuracy: 0.9933 - val_loss: 0.4023 - val_accuracy: 0.9712\n",
            "Epoch 5/10\n",
            "750/750 [==============================] - 4s 5ms/step - loss: 0.0372 - accuracy: 0.9941 - val_loss: 0.3672 - val_accuracy: 0.9721\n",
            "Epoch 6/10\n",
            "750/750 [==============================] - 3s 4ms/step - loss: 0.0403 - accuracy: 0.9936 - val_loss: 0.3983 - val_accuracy: 0.9724\n",
            "Epoch 7/10\n",
            "750/750 [==============================] - 3s 4ms/step - loss: 0.0406 - accuracy: 0.9934 - val_loss: 0.4172 - val_accuracy: 0.9722\n",
            "Epoch 8/10\n",
            "750/750 [==============================] - 3s 4ms/step - loss: 0.0364 - accuracy: 0.9946 - val_loss: 0.4401 - val_accuracy: 0.9722\n",
            "Epoch 9/10\n",
            "750/750 [==============================] - 4s 5ms/step - loss: 0.0384 - accuracy: 0.9939 - val_loss: 0.4388 - val_accuracy: 0.9721\n",
            "Epoch 10/10\n",
            "750/750 [==============================] - 3s 4ms/step - loss: 0.0302 - accuracy: 0.9956 - val_loss: 0.4400 - val_accuracy: 0.9728\n",
            "313/313 [==============================] - 1s 2ms/step - loss: 0.3899 - accuracy: 0.9770\n",
            "Learning Rate: 0.0060 - Test Accuracy: 0.9770\n",
            "Epoch 1/10\n",
            "750/750 [==============================] - 3s 4ms/step - loss: 0.0532 - accuracy: 0.9932 - val_loss: 0.4907 - val_accuracy: 0.9724\n",
            "Epoch 2/10\n",
            "750/750 [==============================] - 3s 4ms/step - loss: 0.0480 - accuracy: 0.9940 - val_loss: 0.6154 - val_accuracy: 0.9671\n",
            "Epoch 3/10\n",
            "750/750 [==============================] - 3s 4ms/step - loss: 0.0564 - accuracy: 0.9930 - val_loss: 0.5669 - val_accuracy: 0.9699\n",
            "Epoch 4/10\n",
            "750/750 [==============================] - 4s 5ms/step - loss: 0.0479 - accuracy: 0.9940 - val_loss: 0.5273 - val_accuracy: 0.9743\n",
            "Epoch 5/10\n",
            "750/750 [==============================] - 3s 3ms/step - loss: 0.0437 - accuracy: 0.9946 - val_loss: 0.5103 - val_accuracy: 0.9731\n",
            "Epoch 6/10\n",
            "750/750 [==============================] - 3s 4ms/step - loss: 0.0528 - accuracy: 0.9937 - val_loss: 0.5759 - val_accuracy: 0.9718\n",
            "Epoch 7/10\n",
            "750/750 [==============================] - 3s 4ms/step - loss: 0.0460 - accuracy: 0.9944 - val_loss: 0.6212 - val_accuracy: 0.9715\n",
            "Epoch 8/10\n",
            "750/750 [==============================] - 4s 5ms/step - loss: 0.0480 - accuracy: 0.9945 - val_loss: 0.6328 - val_accuracy: 0.9723\n",
            "Epoch 9/10\n",
            "750/750 [==============================] - 3s 4ms/step - loss: 0.0461 - accuracy: 0.9944 - val_loss: 0.5721 - val_accuracy: 0.9745\n",
            "Epoch 10/10\n",
            "750/750 [==============================] - 3s 4ms/step - loss: 0.0362 - accuracy: 0.9955 - val_loss: 0.6500 - val_accuracy: 0.9709\n",
            "313/313 [==============================] - 1s 2ms/step - loss: 0.5395 - accuracy: 0.9747\n",
            "Learning Rate: 0.0070 - Test Accuracy: 0.9747\n",
            "Epoch 1/10\n",
            "750/750 [==============================] - 4s 5ms/step - loss: 0.0604 - accuracy: 0.9937 - val_loss: 0.8268 - val_accuracy: 0.9685\n",
            "Epoch 2/10\n",
            "750/750 [==============================] - 3s 5ms/step - loss: 0.0611 - accuracy: 0.9940 - val_loss: 0.7426 - val_accuracy: 0.9713\n",
            "Epoch 3/10\n",
            "750/750 [==============================] - 3s 4ms/step - loss: 0.0702 - accuracy: 0.9936 - val_loss: 0.7824 - val_accuracy: 0.9712\n",
            "Epoch 4/10\n",
            "750/750 [==============================] - 3s 4ms/step - loss: 0.0562 - accuracy: 0.9949 - val_loss: 0.7449 - val_accuracy: 0.9724\n",
            "Epoch 5/10\n",
            "750/750 [==============================] - 4s 5ms/step - loss: 0.0586 - accuracy: 0.9941 - val_loss: 0.6428 - val_accuracy: 0.9741\n",
            "Epoch 6/10\n",
            "750/750 [==============================] - 3s 4ms/step - loss: 0.0629 - accuracy: 0.9938 - val_loss: 0.6971 - val_accuracy: 0.9741\n",
            "Epoch 7/10\n",
            "750/750 [==============================] - 3s 4ms/step - loss: 0.0467 - accuracy: 0.9955 - val_loss: 0.7322 - val_accuracy: 0.9747\n",
            "Epoch 8/10\n",
            "750/750 [==============================] - 3s 4ms/step - loss: 0.0540 - accuracy: 0.9953 - val_loss: 0.7592 - val_accuracy: 0.9734\n",
            "Epoch 9/10\n",
            "750/750 [==============================] - 4s 5ms/step - loss: 0.0679 - accuracy: 0.9937 - val_loss: 0.8345 - val_accuracy: 0.9736\n",
            "Epoch 10/10\n",
            "750/750 [==============================] - 3s 4ms/step - loss: 0.0596 - accuracy: 0.9952 - val_loss: 0.8481 - val_accuracy: 0.9731\n",
            "313/313 [==============================] - 1s 3ms/step - loss: 0.7707 - accuracy: 0.9739\n",
            "Learning Rate: 0.0080 - Test Accuracy: 0.9739\n",
            "Epoch 1/10\n",
            "750/750 [==============================] - 4s 4ms/step - loss: 0.0749 - accuracy: 0.9941 - val_loss: 0.9168 - val_accuracy: 0.9723\n",
            "Epoch 2/10\n",
            "750/750 [==============================] - 3s 4ms/step - loss: 0.0702 - accuracy: 0.9942 - val_loss: 0.7663 - val_accuracy: 0.9744\n",
            "Epoch 3/10\n",
            "750/750 [==============================] - 3s 4ms/step - loss: 0.0658 - accuracy: 0.9950 - val_loss: 0.9477 - val_accuracy: 0.9707\n",
            "Epoch 4/10\n",
            "750/750 [==============================] - 4s 6ms/step - loss: 0.0792 - accuracy: 0.9940 - val_loss: 0.9874 - val_accuracy: 0.9723\n",
            "Epoch 5/10\n",
            "750/750 [==============================] - 3s 4ms/step - loss: 0.0677 - accuracy: 0.9950 - val_loss: 0.9423 - val_accuracy: 0.9745\n",
            "Epoch 6/10\n",
            "750/750 [==============================] - 3s 4ms/step - loss: 0.0787 - accuracy: 0.9943 - val_loss: 0.9680 - val_accuracy: 0.9722\n",
            "Epoch 7/10\n",
            "750/750 [==============================] - 3s 4ms/step - loss: 0.0733 - accuracy: 0.9948 - val_loss: 1.0680 - val_accuracy: 0.9713\n",
            "Epoch 8/10\n",
            "750/750 [==============================] - 4s 5ms/step - loss: 0.0744 - accuracy: 0.9948 - val_loss: 1.0335 - val_accuracy: 0.9728\n",
            "Epoch 9/10\n",
            "750/750 [==============================] - 3s 4ms/step - loss: 0.0650 - accuracy: 0.9954 - val_loss: 1.0957 - val_accuracy: 0.9730\n",
            "Epoch 10/10\n",
            "750/750 [==============================] - 3s 4ms/step - loss: 0.0635 - accuracy: 0.9956 - val_loss: 1.1151 - val_accuracy: 0.9728\n",
            "313/313 [==============================] - 1s 2ms/step - loss: 0.9402 - accuracy: 0.9739\n",
            "Learning Rate: 0.0090 - Test Accuracy: 0.9739\n"
          ]
        }
      ]
    },
    {
      "cell_type": "code",
      "source": [
        "#Accuracy vs Learning Rate\n",
        "plt.plot(lr_results, accuracy_results, marker='o')\n",
        "plt.xlabel('Learning Rate')\n",
        "plt.ylabel('Test Accuracy')\n",
        "plt.title('Accuracy vs Learning Rate')\n",
        "plt.grid(True)"
      ],
      "metadata": {
        "colab": {
          "base_uri": "https://localhost:8080/",
          "height": 472
        },
        "id": "6RsDMGPZidGC",
        "outputId": "8b0184e2-1d74-4cc7-fc89-bb6fbeddd3f5"
      },
      "execution_count": 16,
      "outputs": [
        {
          "output_type": "display_data",
          "data": {
            "text/plain": [
              "<Figure size 640x480 with 1 Axes>"
            ],
            "image/png": "[encoded data removed]"
          },
          "metadata": {}
        }
      ]
    },
    {
      "cell_type": "code",
      "source": [
        "#learning_rates = np.arange(0.001, 0.1, 0.001)\n",
        "batch_sizes = [10, 100, 200, 300, 400, 500, 1000, 2000, 3000, 4000]\n",
        "#lr_results=[]\n",
        "accuracy_results=[]\n",
        "batch_results=[]\n",
        "#for lr in learning_rates:\n",
        "for batch_size in batch_sizes:\n",
        "  learning_rate = 0.01 # Adjust the learning rate as needed\n",
        "  optimizer = Adam(learning_rate=learning_rate)\n",
        "  model.compile(optimizer=optimizer, loss='sparse_categorical_crossentropy', metrics=['accuracy'])\n",
        "  history=model.fit(X_train,y_train,batch_size=64,epochs=10,verbose=1,validation_split=0.2)\n",
        "  loss, accuracy = model.evaluate(X_test, y_test, verbose=1)\n",
        "  print(f\"Learning Rate: {lr:.4f} - Test Accuracy: {accuracy:.4f}\")\n",
        "  #lr_results.append(lr)\n",
        "  batch_results.append(batch_size)\n",
        "  accuracy_results.append(accuracy)"
      ],
      "metadata": {
        "colab": {
          "base_uri": "https://localhost:8080/"
        },
        "id": "o2MJ_LTeiNFb",
        "outputId": "892f3c31-dbb7-4c09-c6cb-bbef919be3d3"
      },
      "execution_count": 23,
      "outputs": [
        {
          "output_type": "stream",
          "name": "stdout",
          "text": [
            "Epoch 1/10\n",
            "750/750 [==============================] - 5s 6ms/step - loss: 0.0630 - accuracy: 0.9984 - val_loss: 4.1925 - val_accuracy: 0.9768\n",
            "Epoch 2/10\n",
            "750/750 [==============================] - 3s 4ms/step - loss: 0.0594 - accuracy: 0.9988 - val_loss: 4.2085 - val_accuracy: 0.9748\n",
            "Epoch 3/10\n",
            "750/750 [==============================] - 3s 4ms/step - loss: 0.0594 - accuracy: 0.9987 - val_loss: 4.4970 - val_accuracy: 0.9749\n",
            "Epoch 4/10\n",
            "750/750 [==============================] - 3s 4ms/step - loss: 0.0687 - accuracy: 0.9986 - val_loss: 3.8886 - val_accuracy: 0.9761\n",
            "Epoch 5/10\n",
            "750/750 [==============================] - 4s 5ms/step - loss: 0.0605 - accuracy: 0.9986 - val_loss: 4.5385 - val_accuracy: 0.9755\n",
            "Epoch 6/10\n",
            "750/750 [==============================] - 3s 4ms/step - loss: 0.0404 - accuracy: 0.9990 - val_loss: 4.2466 - val_accuracy: 0.9771\n",
            "Epoch 7/10\n",
            "750/750 [==============================] - 3s 4ms/step - loss: 0.0365 - accuracy: 0.9990 - val_loss: 4.6770 - val_accuracy: 0.9758\n",
            "Epoch 8/10\n",
            "750/750 [==============================] - 4s 5ms/step - loss: 0.0765 - accuracy: 0.9986 - val_loss: 4.0404 - val_accuracy: 0.9771\n",
            "Epoch 9/10\n",
            "750/750 [==============================] - 3s 4ms/step - loss: 0.0496 - accuracy: 0.9990 - val_loss: 4.3783 - val_accuracy: 0.9738\n",
            "Epoch 10/10\n",
            "750/750 [==============================] - 3s 4ms/step - loss: 0.0640 - accuracy: 0.9985 - val_loss: 4.7504 - val_accuracy: 0.9745\n",
            "313/313 [==============================] - 1s 2ms/step - loss: 3.8308 - accuracy: 0.9776\n",
            "Learning Rate: 0.0090 - Test Accuracy: 0.9776\n",
            "Epoch 1/10\n",
            "750/750 [==============================] - 3s 4ms/step - loss: 0.0576 - accuracy: 0.9988 - val_loss: 4.4095 - val_accuracy: 0.9752\n",
            "Epoch 2/10\n",
            "750/750 [==============================] - 3s 4ms/step - loss: 0.0711 - accuracy: 0.9985 - val_loss: 4.9706 - val_accuracy: 0.9743\n",
            "Epoch 3/10\n",
            "750/750 [==============================] - 6s 7ms/step - loss: 0.0603 - accuracy: 0.9989 - val_loss: 4.7499 - val_accuracy: 0.9768\n",
            "Epoch 4/10\n",
            "750/750 [==============================] - 3s 4ms/step - loss: 0.0538 - accuracy: 0.9989 - val_loss: 5.0854 - val_accuracy: 0.9739\n",
            "Epoch 5/10\n",
            "750/750 [==============================] - 3s 4ms/step - loss: 0.0666 - accuracy: 0.9985 - val_loss: 4.8205 - val_accuracy: 0.9749\n",
            "Epoch 6/10\n",
            "750/750 [==============================] - 3s 4ms/step - loss: 0.0550 - accuracy: 0.9989 - val_loss: 5.1565 - val_accuracy: 0.9735\n",
            "Epoch 7/10\n",
            "750/750 [==============================] - 4s 5ms/step - loss: 0.0866 - accuracy: 0.9987 - val_loss: 4.6185 - val_accuracy: 0.9744\n",
            "Epoch 8/10\n",
            "750/750 [==============================] - 3s 4ms/step - loss: 0.0633 - accuracy: 0.9990 - val_loss: 4.6181 - val_accuracy: 0.9750\n",
            "Epoch 9/10\n",
            "750/750 [==============================] - 3s 4ms/step - loss: 0.0250 - accuracy: 0.9993 - val_loss: 4.2645 - val_accuracy: 0.9772\n",
            "Epoch 10/10\n",
            "750/750 [==============================] - 3s 5ms/step - loss: 0.0518 - accuracy: 0.9988 - val_loss: 4.1677 - val_accuracy: 0.9763\n",
            "313/313 [==============================] - 1s 3ms/step - loss: 3.5455 - accuracy: 0.9797\n",
            "Learning Rate: 0.0090 - Test Accuracy: 0.9797\n",
            "Epoch 1/10\n",
            "750/750 [==============================] - 4s 4ms/step - loss: 0.0581 - accuracy: 0.9988 - val_loss: 4.5487 - val_accuracy: 0.9744\n",
            "Epoch 2/10\n",
            "750/750 [==============================] - 3s 4ms/step - loss: 0.0717 - accuracy: 0.9989 - val_loss: 4.6104 - val_accuracy: 0.9760\n",
            "Epoch 3/10\n",
            "750/750 [==============================] - 4s 5ms/step - loss: 0.0236 - accuracy: 0.9995 - val_loss: 5.4818 - val_accuracy: 0.9723\n",
            "Epoch 4/10\n",
            "750/750 [==============================] - 3s 4ms/step - loss: 0.0857 - accuracy: 0.9984 - val_loss: 4.7341 - val_accuracy: 0.9754\n",
            "Epoch 5/10\n",
            "750/750 [==============================] - 3s 4ms/step - loss: 0.0808 - accuracy: 0.9989 - val_loss: 4.6165 - val_accuracy: 0.9770\n",
            "Epoch 6/10\n",
            "750/750 [==============================] - 3s 4ms/step - loss: 0.0579 - accuracy: 0.9991 - val_loss: 4.6396 - val_accuracy: 0.9756\n",
            "Epoch 7/10\n",
            "750/750 [==============================] - 4s 6ms/step - loss: 0.0545 - accuracy: 0.9990 - val_loss: 4.6599 - val_accuracy: 0.9768\n",
            "Epoch 8/10\n",
            "750/750 [==============================] - 3s 4ms/step - loss: 0.0463 - accuracy: 0.9989 - val_loss: 4.7668 - val_accuracy: 0.9762\n",
            "Epoch 9/10\n",
            "750/750 [==============================] - 3s 4ms/step - loss: 0.0595 - accuracy: 0.9989 - val_loss: 4.6955 - val_accuracy: 0.9748\n",
            "Epoch 10/10\n",
            "750/750 [==============================] - 3s 4ms/step - loss: 0.0409 - accuracy: 0.9992 - val_loss: 4.4404 - val_accuracy: 0.9772\n",
            "313/313 [==============================] - 1s 3ms/step - loss: 4.4212 - accuracy: 0.9785\n",
            "Learning Rate: 0.0090 - Test Accuracy: 0.9785\n",
            "Epoch 1/10\n",
            "750/750 [==============================] - 4s 5ms/step - loss: 0.0679 - accuracy: 0.9987 - val_loss: 5.0771 - val_accuracy: 0.9762\n",
            "Epoch 2/10\n",
            "750/750 [==============================] - 3s 4ms/step - loss: 0.0644 - accuracy: 0.9987 - val_loss: 5.1725 - val_accuracy: 0.9760\n",
            "Epoch 3/10\n",
            "750/750 [==============================] - 3s 4ms/step - loss: 0.0451 - accuracy: 0.9989 - val_loss: 4.6864 - val_accuracy: 0.9780\n",
            "Epoch 4/10\n",
            "750/750 [==============================] - 4s 5ms/step - loss: 0.0372 - accuracy: 0.9993 - val_loss: 4.9966 - val_accuracy: 0.9761\n",
            "Epoch 5/10\n",
            "750/750 [==============================] - 3s 4ms/step - loss: 0.0677 - accuracy: 0.9990 - val_loss: 5.1908 - val_accuracy: 0.9745\n",
            "Epoch 6/10\n",
            "750/750 [==============================] - 3s 4ms/step - loss: 0.0627 - accuracy: 0.9990 - val_loss: 5.2668 - val_accuracy: 0.9762\n",
            "Epoch 7/10\n",
            "750/750 [==============================] - 3s 4ms/step - loss: 0.0866 - accuracy: 0.9987 - val_loss: 4.8140 - val_accuracy: 0.9767\n",
            "Epoch 8/10\n",
            "750/750 [==============================] - 3s 5ms/step - loss: 0.0577 - accuracy: 0.9990 - val_loss: 4.7283 - val_accuracy: 0.9775\n",
            "Epoch 9/10\n",
            "750/750 [==============================] - 3s 4ms/step - loss: 0.0501 - accuracy: 0.9990 - val_loss: 5.1986 - val_accuracy: 0.9774\n",
            "Epoch 10/10\n",
            "750/750 [==============================] - 3s 4ms/step - loss: 0.0337 - accuracy: 0.9993 - val_loss: 4.7198 - val_accuracy: 0.9768\n",
            "313/313 [==============================] - 1s 2ms/step - loss: 4.3445 - accuracy: 0.9795\n",
            "Learning Rate: 0.0090 - Test Accuracy: 0.9795\n",
            "Epoch 1/10\n",
            "750/750 [==============================] - 3s 4ms/step - loss: 0.0511 - accuracy: 0.9990 - val_loss: 5.6341 - val_accuracy: 0.9741\n",
            "Epoch 2/10\n",
            "750/750 [==============================] - 3s 4ms/step - loss: 0.0472 - accuracy: 0.9993 - val_loss: 4.7455 - val_accuracy: 0.9777\n",
            "Epoch 3/10\n",
            "750/750 [==============================] - 4s 5ms/step - loss: 0.0522 - accuracy: 0.9990 - val_loss: 5.4659 - val_accuracy: 0.9743\n",
            "Epoch 4/10\n",
            "750/750 [==============================] - 3s 4ms/step - loss: 0.0713 - accuracy: 0.9987 - val_loss: 5.1538 - val_accuracy: 0.9764\n",
            "Epoch 5/10\n",
            "750/750 [==============================] - 3s 4ms/step - loss: 0.0314 - accuracy: 0.9994 - val_loss: 5.1671 - val_accuracy: 0.9752\n",
            "Epoch 6/10\n",
            "750/750 [==============================] - 3s 4ms/step - loss: 0.0459 - accuracy: 0.9991 - val_loss: 5.2557 - val_accuracy: 0.9752\n",
            "Epoch 7/10\n",
            "750/750 [==============================] - 4s 5ms/step - loss: 0.0889 - accuracy: 0.9983 - val_loss: 5.6023 - val_accuracy: 0.9740\n",
            "Epoch 8/10\n",
            "750/750 [==============================] - 3s 4ms/step - loss: 0.0467 - accuracy: 0.9991 - val_loss: 5.6478 - val_accuracy: 0.9769\n",
            "Epoch 9/10\n",
            "750/750 [==============================] - 3s 4ms/step - loss: 0.0813 - accuracy: 0.9988 - val_loss: 5.1126 - val_accuracy: 0.9753\n",
            "Epoch 10/10\n",
            "750/750 [==============================] - 5s 7ms/step - loss: 0.0212 - accuracy: 0.9994 - val_loss: 5.5153 - val_accuracy: 0.9772\n",
            "313/313 [==============================] - 1s 2ms/step - loss: 4.5861 - accuracy: 0.9791\n",
            "Learning Rate: 0.0090 - Test Accuracy: 0.9791\n",
            "Epoch 1/10\n",
            "750/750 [==============================] - 4s 5ms/step - loss: 0.0211 - accuracy: 0.9996 - val_loss: 5.2573 - val_accuracy: 0.9763\n",
            "Epoch 2/10\n",
            "750/750 [==============================] - 3s 4ms/step - loss: 0.1181 - accuracy: 0.9985 - val_loss: 5.3301 - val_accuracy: 0.9756\n",
            "Epoch 3/10\n",
            "750/750 [==============================] - 3s 4ms/step - loss: 0.0499 - accuracy: 0.9990 - val_loss: 5.3136 - val_accuracy: 0.9781\n",
            "Epoch 4/10\n",
            "750/750 [==============================] - 3s 4ms/step - loss: 0.0622 - accuracy: 0.9989 - val_loss: 5.4548 - val_accuracy: 0.9758\n",
            "Epoch 5/10\n",
            "750/750 [==============================] - 3s 5ms/step - loss: 0.0616 - accuracy: 0.9991 - val_loss: 5.5985 - val_accuracy: 0.9758\n",
            "Epoch 6/10\n",
            "750/750 [==============================] - 4s 5ms/step - loss: 0.0572 - accuracy: 0.9989 - val_loss: 5.3929 - val_accuracy: 0.9747\n",
            "Epoch 7/10\n",
            "750/750 [==============================] - 3s 4ms/step - loss: 0.0404 - accuracy: 0.9991 - val_loss: 5.0245 - val_accuracy: 0.9783\n",
            "Epoch 8/10\n",
            "750/750 [==============================] - 3s 4ms/step - loss: 0.0292 - accuracy: 0.9994 - val_loss: 4.8906 - val_accuracy: 0.9793\n",
            "Epoch 9/10\n",
            "750/750 [==============================] - 3s 4ms/step - loss: 0.0571 - accuracy: 0.9990 - val_loss: 5.4702 - val_accuracy: 0.9758\n",
            "Epoch 10/10\n",
            "750/750 [==============================] - 4s 5ms/step - loss: 0.0583 - accuracy: 0.9990 - val_loss: 5.3146 - val_accuracy: 0.9763\n",
            "313/313 [==============================] - 1s 3ms/step - loss: 5.0162 - accuracy: 0.9773\n",
            "Learning Rate: 0.0090 - Test Accuracy: 0.9773\n",
            "Epoch 1/10\n",
            "750/750 [==============================] - 3s 4ms/step - loss: 0.0704 - accuracy: 0.9990 - val_loss: 5.2704 - val_accuracy: 0.9768\n",
            "Epoch 2/10\n",
            "750/750 [==============================] - 3s 4ms/step - loss: 0.0281 - accuracy: 0.9995 - val_loss: 5.3303 - val_accuracy: 0.9767\n",
            "Epoch 3/10\n",
            "750/750 [==============================] - 3s 4ms/step - loss: 0.0752 - accuracy: 0.9989 - val_loss: 5.3066 - val_accuracy: 0.9770\n",
            "Epoch 4/10\n",
            "750/750 [==============================] - 4s 5ms/step - loss: 0.0652 - accuracy: 0.9989 - val_loss: 5.5202 - val_accuracy: 0.9760\n",
            "Epoch 5/10\n",
            "750/750 [==============================] - 3s 4ms/step - loss: 0.0452 - accuracy: 0.9992 - val_loss: 5.1262 - val_accuracy: 0.9774\n",
            "Epoch 6/10\n",
            "750/750 [==============================] - 3s 4ms/step - loss: 0.0307 - accuracy: 0.9994 - val_loss: 6.3174 - val_accuracy: 0.9737\n",
            "Epoch 7/10\n",
            "750/750 [==============================] - 3s 4ms/step - loss: 0.0757 - accuracy: 0.9990 - val_loss: 5.8616 - val_accuracy: 0.9768\n",
            "Epoch 8/10\n",
            "750/750 [==============================] - 4s 6ms/step - loss: 0.0590 - accuracy: 0.9992 - val_loss: 6.3136 - val_accuracy: 0.9752\n",
            "Epoch 9/10\n",
            "750/750 [==============================] - 3s 4ms/step - loss: 0.0605 - accuracy: 0.9990 - val_loss: 6.0226 - val_accuracy: 0.9758\n",
            "Epoch 10/10\n",
            "750/750 [==============================] - 3s 4ms/step - loss: 0.0526 - accuracy: 0.9992 - val_loss: 5.9380 - val_accuracy: 0.9776\n",
            "313/313 [==============================] - 1s 2ms/step - loss: 5.0428 - accuracy: 0.9793\n",
            "Learning Rate: 0.0090 - Test Accuracy: 0.9793\n",
            "Epoch 1/10\n",
            "750/750 [==============================] - 4s 5ms/step - loss: 0.0458 - accuracy: 0.9991 - val_loss: 6.2913 - val_accuracy: 0.9760\n",
            "Epoch 2/10\n",
            "750/750 [==============================] - 3s 4ms/step - loss: 0.0763 - accuracy: 0.9989 - val_loss: 6.2283 - val_accuracy: 0.9761\n",
            "Epoch 3/10\n",
            "750/750 [==============================] - 3s 4ms/step - loss: 0.0585 - accuracy: 0.9992 - val_loss: 6.2031 - val_accuracy: 0.9765\n",
            "Epoch 4/10\n",
            "750/750 [==============================] - 3s 4ms/step - loss: 0.0552 - accuracy: 0.9992 - val_loss: 5.9569 - val_accuracy: 0.9769\n",
            "Epoch 5/10\n",
            "750/750 [==============================] - 4s 5ms/step - loss: 0.0345 - accuracy: 0.9994 - val_loss: 6.0683 - val_accuracy: 0.9753\n",
            "Epoch 6/10\n",
            "750/750 [==============================] - 3s 4ms/step - loss: 0.0301 - accuracy: 0.9992 - val_loss: 5.5910 - val_accuracy: 0.9772\n",
            "Epoch 7/10\n",
            "750/750 [==============================] - 3s 4ms/step - loss: 0.0563 - accuracy: 0.9992 - val_loss: 5.5471 - val_accuracy: 0.9774\n",
            "Epoch 8/10\n",
            "750/750 [==============================] - 3s 4ms/step - loss: 0.0483 - accuracy: 0.9991 - val_loss: 5.8112 - val_accuracy: 0.9782\n",
            "Epoch 9/10\n",
            "750/750 [==============================] - 4s 5ms/step - loss: 0.0496 - accuracy: 0.9991 - val_loss: 5.8672 - val_accuracy: 0.9771\n",
            "Epoch 10/10\n",
            "750/750 [==============================] - 3s 4ms/step - loss: 0.0572 - accuracy: 0.9989 - val_loss: 6.6328 - val_accuracy: 0.9764\n",
            "313/313 [==============================] - 1s 3ms/step - loss: 5.5258 - accuracy: 0.9783\n",
            "Learning Rate: 0.0090 - Test Accuracy: 0.9783\n",
            "Epoch 1/10\n",
            "750/750 [==============================] - 4s 4ms/step - loss: 0.0669 - accuracy: 0.9991 - val_loss: 5.9403 - val_accuracy: 0.9771\n",
            "Epoch 2/10\n",
            "750/750 [==============================] - 3s 4ms/step - loss: 0.0390 - accuracy: 0.9992 - val_loss: 5.8968 - val_accuracy: 0.9785\n",
            "Epoch 3/10\n",
            "750/750 [==============================] - 3s 4ms/step - loss: 0.0423 - accuracy: 0.9992 - val_loss: 6.1298 - val_accuracy: 0.9763\n",
            "Epoch 4/10\n",
            "750/750 [==============================] - 4s 5ms/step - loss: 0.0544 - accuracy: 0.9991 - val_loss: 5.7230 - val_accuracy: 0.9773\n",
            "Epoch 5/10\n",
            "750/750 [==============================] - 3s 4ms/step - loss: 0.0560 - accuracy: 0.9993 - val_loss: 5.8225 - val_accuracy: 0.9764\n",
            "Epoch 6/10\n",
            "750/750 [==============================] - 3s 4ms/step - loss: 0.0323 - accuracy: 0.9992 - val_loss: 6.0101 - val_accuracy: 0.9778\n",
            "Epoch 7/10\n",
            "750/750 [==============================] - 3s 4ms/step - loss: 0.0781 - accuracy: 0.9987 - val_loss: 6.4807 - val_accuracy: 0.9769\n",
            "Epoch 8/10\n",
            "750/750 [==============================] - 6s 8ms/step - loss: 0.0447 - accuracy: 0.9991 - val_loss: 6.4442 - val_accuracy: 0.9777\n",
            "Epoch 9/10\n",
            "750/750 [==============================] - 3s 4ms/step - loss: 0.0525 - accuracy: 0.9993 - val_loss: 6.2537 - val_accuracy: 0.9758\n",
            "Epoch 10/10\n",
            "750/750 [==============================] - 3s 4ms/step - loss: 0.0422 - accuracy: 0.9994 - val_loss: 5.9665 - val_accuracy: 0.9775\n",
            "313/313 [==============================] - 1s 2ms/step - loss: 4.9145 - accuracy: 0.9791\n",
            "Learning Rate: 0.0090 - Test Accuracy: 0.9791\n",
            "Epoch 1/10\n",
            "750/750 [==============================] - 4s 5ms/step - loss: 0.0406 - accuracy: 0.9993 - val_loss: 6.7488 - val_accuracy: 0.9760\n",
            "Epoch 2/10\n",
            "750/750 [==============================] - 3s 4ms/step - loss: 0.0733 - accuracy: 0.9988 - val_loss: 6.1117 - val_accuracy: 0.9772\n",
            "Epoch 3/10\n",
            "750/750 [==============================] - 3s 4ms/step - loss: 0.0431 - accuracy: 0.9991 - val_loss: 6.3219 - val_accuracy: 0.9772\n",
            "Epoch 4/10\n",
            "750/750 [==============================] - 3s 4ms/step - loss: 0.0416 - accuracy: 0.9992 - val_loss: 6.3403 - val_accuracy: 0.9783\n",
            "Epoch 5/10\n",
            "750/750 [==============================] - 4s 6ms/step - loss: 0.0277 - accuracy: 0.9995 - val_loss: 6.3104 - val_accuracy: 0.9771\n",
            "Epoch 6/10\n",
            "750/750 [==============================] - 3s 4ms/step - loss: 0.0502 - accuracy: 0.9993 - val_loss: 6.0070 - val_accuracy: 0.9759\n",
            "Epoch 7/10\n",
            "750/750 [==============================] - 3s 4ms/step - loss: 0.0604 - accuracy: 0.9992 - val_loss: 6.1851 - val_accuracy: 0.9776\n",
            "Epoch 8/10\n",
            "750/750 [==============================] - 3s 4ms/step - loss: 0.0572 - accuracy: 0.9993 - val_loss: 6.3984 - val_accuracy: 0.9762\n",
            "Epoch 9/10\n",
            "750/750 [==============================] - 4s 5ms/step - loss: 0.0552 - accuracy: 0.9991 - val_loss: 6.5410 - val_accuracy: 0.9782\n",
            "Epoch 10/10\n",
            "750/750 [==============================] - 3s 4ms/step - loss: 0.0477 - accuracy: 0.9993 - val_loss: 6.5059 - val_accuracy: 0.9766\n",
            "313/313 [==============================] - 1s 2ms/step - loss: 5.4632 - accuracy: 0.9772\n",
            "Learning Rate: 0.0090 - Test Accuracy: 0.9772\n"
          ]
        }
      ]
    },
    {
      "cell_type": "code",
      "source": [],
      "metadata": {
        "id": "T86v0s2Nx1Sw"
      },
      "execution_count": null,
      "outputs": []
    },
    {
      "cell_type": "code",
      "source": [
        "#Accuracy vs Batch_size\n",
        "plt.plot(batch_results, accuracy_results, marker='o')\n",
        "plt.xlabel('batchsize')\n",
        "plt.ylabel('Test Accuracy')\n",
        "plt.title('Accuracy vs batchsize')\n",
        "plt.grid(True)"
      ],
      "metadata": {
        "colab": {
          "base_uri": "https://localhost:8080/",
          "height": 472
        },
        "id": "aU8ZGcdmtG3h",
        "outputId": "388ce41a-53fe-49c1-f28c-8ee0429a1c96"
      },
      "execution_count": 24,
      "outputs": [
        {
          "output_type": "display_data",
          "data": {
            "text/plain": [
              "<Figure size 640x480 with 1 Axes>"
            ],
            "image/png": "[encoded data removed]"
          },
          "metadata": {}
        }
      ]
    },
    {
      "cell_type": "code",
      "source": [
        "plt.scatter(batch_results, accuracy_results, c=accuracy_results, cmap='viridis')\n",
        "plt.colorbar(label='Test Accuracy')\n",
        "plt.xlabel('Batch Size')\n",
        "plt.ylabel('Accuracy')\n",
        "plt.title('Accuracy vs Batch Size')\n",
        "plt.show()"
      ],
      "metadata": {
        "colab": {
          "base_uri": "https://localhost:8080/",
          "height": 472
        },
        "id": "cNOJwdZTDqC1",
        "outputId": "23c9df27-911b-42d6-c8a1-cda8ef4a9caa"
      },
      "execution_count": 25,
      "outputs": [
        {
          "output_type": "display_data",
          "data": {
            "text/plain": [
              "<Figure size 640x480 with 2 Axes>"
            ],
            "image/png": "[encoded data removed]"
          },
          "metadata": {}
        }
      ]
    },
    {
      "cell_type": "code",
      "source": [
        "\n",
        "\n",
        "\n",
        "\n",
        "\n",
        "\n",
        "\n"
      ],
      "metadata": {
        "id": "PnjZvAHp6iPj"
      },
      "execution_count": null,
      "outputs": []
    },
    {
      "cell_type": "markdown",
      "source": [
        "Learning Rate Scheduler"
      ],
      "metadata": {
        "id": "hce0VYp9fOFl"
      }
    },
    {
      "cell_type": "code",
      "source": [
        "tf.keras.callbacks.LearningRateScheduler(schedule, verbose=0)"
      ],
      "metadata": {
        "colab": {
          "base_uri": "https://localhost:8080/",
          "height": 176
        },
        "id": "tTErcsUhfNX-",
        "outputId": "ce097868-79aa-4530-fd9b-ea1037a416d7"
      },
      "execution_count": 26,
      "outputs": [
        {
          "output_type": "error",
          "ename": "NameError",
          "evalue": "ignored",
          "traceback": [
            "\u001b[0;31m---------------------------------------------------------------------------\u001b[0m",
            "\u001b[0;31mNameError\u001b[0m                                 Traceback (most recent call last)",
            "\u001b[0;32m<ipython-input-26-542aa8df603a>\u001b[0m in \u001b[0;36m<cell line: 1>\u001b[0;34m()\u001b[0m\n\u001b[0;32m----> 1\u001b[0;31m \u001b[0mtf\u001b[0m\u001b[0;34m.\u001b[0m\u001b[0mkeras\u001b[0m\u001b[0;34m.\u001b[0m\u001b[0mcallbacks\u001b[0m\u001b[0;34m.\u001b[0m\u001b[0mLearningRateScheduler\u001b[0m\u001b[0;34m(\u001b[0m\u001b[0mschedule\u001b[0m\u001b[0;34m,\u001b[0m \u001b[0mverbose\u001b[0m\u001b[0;34m=\u001b[0m\u001b[0;36m0\u001b[0m\u001b[0;34m)\u001b[0m\u001b[0;34m\u001b[0m\u001b[0;34m\u001b[0m\u001b[0m\n\u001b[0m",
            "\u001b[0;31mNameError\u001b[0m: name 'tf' is not defined"
          ]
        }
      ]
    },
    {
      "cell_type": "code",
      "source": [
        "def scheduler(epoch, lr):\n",
        "  if epoch < 10:\n",
        "    return lr\n",
        "  else\n",
        "    return lr * tf.math.exp(-0.1)\n",
        "\n",
        "model = tf.keras.models.Sequential([tf.keras.layers.Dense(10)])\n",
        "model.compile(tf.keras.optimizers.SGD(), loss='mse')\n",
        "round(model.optimizer.lr.numpy(), 5)\n"
      ],
      "metadata": {
        "id": "4g0ITngHfr1H"
      },
      "execution_count": null,
      "outputs": []
    },
    {
      "cell_type": "code",
      "source": [
        "callback = tf.keras.callbacks.LearningRateScheduler(scheduler)\n",
        "history = model.fit(np.arange(100).reshape(5, 20), np.zeros(5),epochs=15, callbacks=[callback], verbose=0)\n",
        "round(model.optimizer.lr.numpy(), 5)"
      ],
      "metadata": {
        "id": "7IAMBMhNf6NB"
      },
      "execution_count": null,
      "outputs": []
    },
    {
      "cell_type": "code",
      "source": [
        "plt.figure(figsize=(10, 6))\n",
        "plt.plot(lr, accuracy, marker='o')\n",
        "plt.xlabel('Learning Rate')\n",
        "plt.ylabel(' accuracy')\n",
        "plt.title('Learning Rate vs.  Accuracy')\n",
        "for i, txt in enumerate(accuracy):\n",
        "    plt.annotate(f'{txt:.2f}', (learning_rates[i], accuracy[i]), textcoords=\"offset points\", xytext=(0,10), ha='center')"
      ],
      "metadata": {
        "id": "1Q-sABPWxunN"
      },
      "execution_count": null,
      "outputs": []
    },
    {
      "cell_type": "code",
      "source": [
        "training_loss = history.history['loss']\n",
        "\n",
        "# Access validation loss history\n",
        "validation_loss = history.history['val_loss']\n",
        "\n",
        "# Access training accuracy history\n",
        "training_accuracy = history.history['accuracy']\n",
        "\n",
        "# Access validation accuracy history\n",
        "validation_accuracy = history.history['val_accuracy']\n",
        "print(validation_loss)\n",
        "print(validation_accuracy)\n",
        "print(training_accuracy)\n"
      ],
      "metadata": {
        "id": "VzGy0KQSuecG"
      },
      "execution_count": null,
      "outputs": []
    },
    {
      "cell_type": "code",
      "source": [],
      "metadata": {
        "id": "ECEWA5IAw8TQ"
      },
      "execution_count": null,
      "outputs": []
    },
    {
      "cell_type": "code",
      "source": [
        "model.evaluate(X_test,y_test)"
      ],
      "metadata": {
        "id": "b9GNo6a2EKdv"
      },
      "execution_count": null,
      "outputs": []
    },
    {
      "cell_type": "code",
      "source": [
        "model.predict(X_test)"
      ],
      "metadata": {
        "id": "vbap9loayHqk"
      },
      "execution_count": null,
      "outputs": []
    },
    {
      "cell_type": "code",
      "source": [
        "predicted_classes = model.predict(X_test)\n",
        "predicted_classes = np.argmax(predicted_classes, axis=1)"
      ],
      "metadata": {
        "id": "QYTSExk6yKdc"
      },
      "execution_count": null,
      "outputs": []
    },
    {
      "cell_type": "code",
      "source": [
        "print(predicted_classes)"
      ],
      "metadata": {
        "id": "782wGVhFyOLJ"
      },
      "execution_count": null,
      "outputs": []
    },
    {
      "cell_type": "code",
      "source": [
        "plt.plot(history.history['loss'])\n",
        "plt.plot(history.history['val_loss'])"
      ],
      "metadata": {
        "id": "0jdI6vjRyQjj"
      },
      "execution_count": null,
      "outputs": []
    }
  ]
}