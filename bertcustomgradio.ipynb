{
 "cells": [
  {
   "cell_type": "code",
   "execution_count": 27,
   "id": "ea4ce721-4d59-4d24-bbec-b34c8a32db85",
   "metadata": {
    "tags": []
   },
   "outputs": [],
   "source": [
    "import gradio as gr\n",
    "import transformers\n",
    "from datasets import load_dataset\n",
    "import torch\n",
    "from transformers import BertForSequenceClassification, BertTokenizer, AdamW\n",
    "from torch.utils.data import DataLoader, TensorDataset"
   ]
  },
  {
   "cell_type": "code",
   "execution_count": 28,
   "id": "4cf92765-7398-4671-a48f-e16ddabb25db",
   "metadata": {
    "tags": []
   },
   "outputs": [],
   "source": [
    "# Load your dataset from Hugging Face Datasets\n",
    "dataset = load_dataset(\"Divya1287/sentimal_analysis1\")"
   ]
  },
  {
   "cell_type": "code",
   "execution_count": 29,
   "id": "03354dea-5e43-4611-9b2c-d736d4b4033d",
   "metadata": {
    "tags": []
   },
   "outputs": [],
   "source": [
    "import pandas as pd\n",
    "from sklearn.model_selection import train_test_split\n",
    "from io import StringIO"
   ]
  },
  {
   "cell_type": "code",
   "execution_count": 16,
   "id": "4aa87244-2398-403b-b4b8-86b7befff290",
   "metadata": {
    "tags": []
   },
   "outputs": [],
   "source": [
    "dataset = load_dataset(\"Divya1287/sentimal_analysis1\",sep=\";\",encoding=\"latin-1\")"
   ]
  },
  {
   "cell_type": "code",
   "execution_count": 17,
   "id": "61be80e3-d440-4e55-a1ac-7e57e22c540c",
   "metadata": {
    "tags": []
   },
   "outputs": [],
   "source": [
    "df = dataset[\"train\"].to_pandas()"
   ]
  },
  {
   "cell_type": "code",
   "execution_count": 18,
   "id": "6b45fef4-7d88-4a89-a19c-7c7f68f1f5e6",
   "metadata": {
    "tags": []
   },
   "outputs": [
    {
     "name": "stdout",
     "output_type": "stream",
     "text": [
      "                                       Text Data,Label  \\\n",
      "0              I loved the movie as it was fantastic,1   \n",
      "1            The product didn't meet my expectations,0   \n",
      "2        This restaurant has great food and service.,1   \n",
      "3                I will be going to office on Friday,1   \n",
      "4                   I dont eat junk but i like pizza,1   \n",
      "..                                                 ...   \n",
      "102  It feels more comfortable than most headsets b...   \n",
      "103                             Great for iPODs too.,1   \n",
      "104   This device is great in several situations:1.),1   \n",
      "105                                Mic Doesn't work.,0   \n",
      "106    Even in my BMW 3 series which is fairly quiet,0   \n",
      "\n",
      "                                             Text Data  Label  \n",
      "0                I loved the movie as it was fantastic      1  \n",
      "1              The product didn't meet my expectations      0  \n",
      "2          This restaurant has great food and service.      1  \n",
      "3                  I will be going to office on Friday      1  \n",
      "4                     I dont eat junk but i like pizza      1  \n",
      "..                                                 ...    ...  \n",
      "102  It feels more comfortable than most headsets b...      1  \n",
      "103                               Great for iPODs too.      1  \n",
      "104     This device is great in several situations:1.)      1  \n",
      "105                               Mic Doesn't work.         0  \n",
      "106      Even in my BMW 3 series which is fairly quiet      0  \n",
      "\n",
      "[107 rows x 3 columns]\n"
     ]
    }
   ],
   "source": [
    "import pandas as pd\n",
    "\n",
    "\n",
    "\n",
    "#df = pd.DataFrame(data)\n",
    "\n",
    "# Define a maximum sequence length for padding\n",
    "max_sequence_length = 20  # Adjust this as needed\n",
    "\n",
    "# Define a padding character (e.g., space)\n",
    "padding_char = ' '\n",
    "\n",
    "# Split the \"Text Data,Label\" column into text and label columns\n",
    "df[['Text Data', 'Label']] = df['Text Data,Label'].str.split(',', expand=True)\n",
    "\n",
    "# Pad the 'Text Data' column to the specified maximum sequence length\n",
    "df['Text Data'] = df['Text Data'].apply(lambda x: x.ljust(max_sequence_length, padding_char))\n",
    "\n",
    "# Convert the 'Label' column to integers\n",
    "df['Label'] = df['Label'].astype(int)\n",
    "\n",
    "# Now, all text sequences in the 'Text Data' column have the same length\n",
    "print(df)"
   ]
  },
  {
   "cell_type": "code",
   "execution_count": 19,
   "id": "a3319850-12fc-487f-8151-744fe3f19652",
   "metadata": {
    "tags": []
   },
   "outputs": [],
   "source": [
    "column_name_to_remove = \"Text Data,Label\"\n",
    "df = df.drop(column_name_to_remove, axis=1)\n",
    "\n",
    "# Save the modified DataFrame back to a file if needed\n",
    "df.to_csv(\"modified_dataset.csv\", index=False)"
   ]
  },
  {
   "cell_type": "code",
   "execution_count": 20,
   "id": "10e5afbf-dee8-4095-8f90-6a8f4dcc93ca",
   "metadata": {
    "tags": []
   },
   "outputs": [],
   "source": [
    "clear_text_1=[]\n",
    "def to_lower(df):\n",
    "  for words in raw_text:\n",
    "    clear_text_1.append(str.lower(words))"
   ]
  },
  {
   "cell_type": "code",
   "execution_count": 21,
   "id": "1bea8cbe-b8cd-4d4d-b802-14af706ede09",
   "metadata": {
    "tags": []
   },
   "outputs": [
    {
     "name": "stdout",
     "output_type": "stream",
     "text": [
      "                                             Text Data  Label\n",
      "0                I loved the movie as it was fantastic      1\n",
      "1              The product didn't meet my expectations      0\n",
      "2          This restaurant has great food and service.      1\n",
      "3                  I will be going to office on Friday      1\n",
      "4                     I dont eat junk but i like pizza      1\n",
      "..                                                 ...    ...\n",
      "102  It feels more comfortable than most headsets b...      1\n",
      "103                               Great for iPODs too.      1\n",
      "104     This device is great in several situations:1.)      1\n",
      "105                               Mic Doesn't work.         0\n",
      "106      Even in my BMW 3 series which is fairly quiet      0\n",
      "\n",
      "[107 rows x 2 columns]\n"
     ]
    }
   ],
   "source": [
    "print(df)"
   ]
  },
  {
   "cell_type": "code",
   "execution_count": 22,
   "id": "6a429e00-2458-4f68-8673-26b70cba3ab2",
   "metadata": {
    "tags": []
   },
   "outputs": [
    {
     "name": "stderr",
     "output_type": "stream",
     "text": [
      "Some weights of BertForSequenceClassification were not initialized from the model checkpoint at bert-base-uncased and are newly initialized: ['classifier.bias', 'classifier.weight']\n",
      "You should probably TRAIN this model on a down-stream task to be able to use it for predictions and inference.\n"
     ]
    }
   ],
   "source": [
    "# Load a pre-trained sentiment analysis model from Hugging Face Transformers\n",
    "model_name = \"bert-base-uncased\"  # Replace with your model name\n",
    "tokenizer = transformers.AutoTokenizer.from_pretrained(model_name)\n",
    "model = transformers.AutoModelForSequenceClassification.from_pretrained(model_name)"
   ]
  },
  {
   "cell_type": "code",
   "execution_count": 23,
   "id": "f25260f9-b6a3-418d-b571-f73dddd3fdda",
   "metadata": {
    "tags": []
   },
   "outputs": [],
   "source": [
    "# Define the sentiment analysis function\n",
    "def sentiment_analysis(text):\n",
    "    # Tokenize the input text\n",
    "    inputs = tokenizer(text, padding=True, truncation=True, return_tensors=\"pt\", max_length=128)\n",
    "\n",
    "    # Perform sentiment analysis using the loaded model\n",
    "    outputs = model(**inputs)\n",
    "    predicted_class = 1 if outputs.logits.argmax().item() == 1 else 0  # Assuming binary classification\n",
    "\n",
    "    return predicted_class"
   ]
  },
  {
   "cell_type": "code",
   "execution_count": 24,
   "id": "acc60ce0-de93-4873-830b-f13d6f1aa775",
   "metadata": {
    "tags": []
   },
   "outputs": [],
   "source": [
    "# Create a Gradio interface\n",
    "#iface = gr.Interface(\n",
    "  #  fn=sentiment_analysis,\n",
    "  #  inputs=gr.inputs.Textbox(label=\"Enter a text sample\"),\n",
    "   # outputs=gr.outputs.Label(label=\"Predicted Sentiment (0: Negative, 1: Positive)\")\n",
    "#)\n"
   ]
  },
  {
   "cell_type": "code",
   "execution_count": 25,
   "id": "e4da267c-87b2-407e-86f2-784c86356385",
   "metadata": {
    "tags": []
   },
   "outputs": [],
   "source": [
    "# Create a Gradio interface\n",
    "iface = gr.Interface(\n",
    "    fn=sentiment_analysis,\n",
    "    inputs=gr.components.Textbox(label=\"Enter a text sample\"),\n",
    "    outputs=gr.components.Label(label=\"Predicted Sentiment (0: Negative, 1: Positive)\")\n",
    ")"
   ]
  },
  {
   "cell_type": "code",
   "execution_count": 26,
   "id": "307f0b94-b6c4-4a92-b4b6-fc121fd0fc06",
   "metadata": {
    "tags": []
   },
   "outputs": [
    {
     "name": "stdout",
     "output_type": "stream",
     "text": [
      "Running on local URL:  http://127.0.0.1:7860\n",
      "\n",
      "To create a public link, set `share=True` in `launch()`.\n"
     ]
    },
    {
     "data": {
      "text/html": [
       "<div><iframe src=\"http://127.0.0.1:7860/\" width=\"100%\" height=\"500\" allow=\"autoplay; camera; microphone; clipboard-read; clipboard-write;\" frameborder=\"0\" allowfullscreen></iframe></div>"
      ],
      "text/plain": [
       "<IPython.core.display.HTML object>"
      ]
     },
     "metadata": {},
     "output_type": "display_data"
    },
    {
     "data": {
      "text/plain": []
     },
     "execution_count": 26,
     "metadata": {},
     "output_type": "execute_result"
    }
   ],
   "source": [
    "# Launch the Gradio interface\n",
    "iface.launch()"
   ]
  },
  {
   "cell_type": "code",
   "execution_count": null,
   "id": "23be4d6c-de25-4752-8201-bb2efec2798c",
   "metadata": {},
   "outputs": [],
   "source": []
  },
  {
   "cell_type": "code",
   "execution_count": null,
   "id": "f9906f01-2f17-45df-8580-be36e04339cc",
   "metadata": {},
   "outputs": [],
   "source": []
  },
  {
   "cell_type": "code",
   "execution_count": null,
   "id": "e6b481a8-0747-45ed-b813-8a447c8ddcc7",
   "metadata": {},
   "outputs": [],
   "source": []
  },
  {
   "cell_type": "code",
   "execution_count": null,
   "id": "a283f74d-82b9-4edd-80be-2eac69e5fa18",
   "metadata": {},
   "outputs": [],
   "source": []
  }
 ],
 "metadata": {
  "kernelspec": {
   "display_name": "envname",
   "language": "python",
   "name": "envname"
  },
  "language_info": {
   "codemirror_mode": {
    "name": "ipython",
    "version": 3
   },
   "file_extension": ".py",
   "mimetype": "text/x-python",
   "name": "python",
   "nbconvert_exporter": "python",
   "pygments_lexer": "ipython3",
   "version": "3.11.4"
  }
 },
 "nbformat": 4,
 "nbformat_minor": 5
}
